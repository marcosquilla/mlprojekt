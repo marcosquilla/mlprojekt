{
 "cells": [
  {
   "cell_type": "code",
   "execution_count": null,
   "metadata": {},
   "outputs": [],
   "source": [
    "from IPython.display import display\n",
    "from pathlib import Path\n",
    "from glob import glob\n",
    "from datetime import datetime, timedelta\n",
    "import numpy as np\n",
    "import pandas as pd\n",
    "import matplotlib.pyplot as plt\n",
    "import matplotlib.ticker as mtick\n",
    "import folium\n",
    "import folium.plugins\n",
    "from pyproj import Geod\n",
    "from tqdm import tqdm\n",
    "import random\n",
    "from sklearn.preprocessing import StandardScaler\n",
    "geo = Geod(ellps='WGS84')\n",
    "center_coords=[55.6785706133019, 12.544427257404426]\n",
    "pd.options.mode.chained_assignment = None"
   ]
  },
  {
   "cell_type": "code",
   "execution_count": null,
   "metadata": {},
   "outputs": [],
   "source": [
    "vao = pd.read_csv((Path.cwd().parent.parent / 'reports' / 'virtual_area_opt.csv'), header=None)\n",
    "virtual_area_centers = pd.read_csv(Path.cwd().parent.parent / 'data' / 'processed' / 'areas.csv')\n",
    "rental = pd.read_csv(Path.cwd().parent.parent / 'data' / 'interim' / 'rental.csv', low_memory=False, parse_dates=['Start_Datetime_Local', 'End_Datetime_Local'])\n",
    "area_centers = rental.groupby('Start_Zone_Name').mean()[['Start_GPS_Latitude','Start_GPS_Longitude']]\n",
    "openings = pd.read_csv(Path.cwd().parent.parent / 'data' / 'interim' / 'openings.csv', parse_dates=['Created_Datetime_Local'])\n",
    "locations = pd.read_csv(Path.cwd().parent.parent / 'data' / 'processed' / 'locations.csv', parse_dates=['Time'])"
   ]
  },
  {
   "cell_type": "markdown",
   "metadata": {},
   "source": [
    "# Data analysis and area generation"
   ]
  },
  {
   "cell_type": "code",
   "execution_count": null,
   "metadata": {},
   "outputs": [],
   "source": [
    "time_start = max(rental['Start_Datetime_Local'].min(), openings['Created_Datetime_Local'].min())\n",
    "time_end = min(rental['End_Datetime_Local'].max(), openings['Created_Datetime_Local'].max())\n",
    "total_time = time_end-time_start\n",
    "\n",
    "service_ratio = []\n",
    "for _ in tqdm(range(10000)):\n",
    "    timepoint = time_start + timedelta(seconds=total_time.total_seconds()*random.uniform(0,1))\n",
    "    current_trips = rental[(rental['Start_Datetime_Local'] <= timepoint) & (rental['End_Datetime_Local'] > timepoint) & (rental['Servicedrive_YN']==1)] # Cars in use\n",
    "    service_ratio.append(len(current_trips))\n",
    "\n",
    "all_ratio = []\n",
    "for _ in tqdm(range(10000)):\n",
    "    timepoint = time_start + timedelta(seconds=total_time.total_seconds()*random.uniform(0,1))\n",
    "    current_trips = rental[(rental['Start_Datetime_Local'] <= timepoint) & (rental['End_Datetime_Local'] > timepoint) & (rental['Servicedrive_YN']==0)] # Cars in use\n",
    "    all_ratio.append(len(current_trips))"
   ]
  },
  {
   "cell_type": "markdown",
   "metadata": {},
   "source": [
    "### Density histogram of cars being relocated at any date or time"
   ]
  },
  {
   "cell_type": "code",
   "execution_count": null,
   "metadata": {},
   "outputs": [],
   "source": [
    "bins = np.arange(0, 10, 1) # fixed bin size\n",
    "plt.figure(figsize=(10,7))\n",
    "ax=plt.subplot(111)\n",
    "plt.xlim([0.5, 9.5])\n",
    "plt.xticks(range(1,10))\n",
    "ax.hist(service_ratio, bins=bins, density=True, align='right')\n",
    "plt.xlabel('Cars being relocated')\n",
    "ax.yaxis.set_major_formatter(mtick.PercentFormatter(1.0, decimals=0))\n",
    "plt.ylabel('Density')\n",
    "plt.show()"
   ]
  },
  {
   "cell_type": "markdown",
   "metadata": {},
   "source": [
    "### Density histogram of cars in rental at any date or time"
   ]
  },
  {
   "cell_type": "code",
   "execution_count": null,
   "metadata": {},
   "outputs": [],
   "source": [
    "bins = np.arange(0, 400, 5) # fixed bin size\n",
    "plt.figure(figsize=(10,7))\n",
    "ax=plt.subplot(111)\n",
    "plt.xlim([0, 400])\n",
    "ax.hist(all_ratio, bins=bins, density=True, align='right')\n",
    "plt.xlabel('Cars in rental')\n",
    "ax.yaxis.set_major_formatter(mtick.PercentFormatter(1.0, decimals=2))\n",
    "plt.ylabel('Density')\n",
    "plt.show()"
   ]
  },
  {
   "cell_type": "markdown",
   "metadata": {},
   "source": [
    "### Ratio of rentals to relocations"
   ]
  },
  {
   "cell_type": "code",
   "execution_count": null,
   "metadata": {},
   "outputs": [],
   "source": [
    "np.mean(all_ratio)/np.mean(service_ratio)"
   ]
  },
  {
   "cell_type": "markdown",
   "metadata": {},
   "source": [
    "### Duration of drives"
   ]
  },
  {
   "cell_type": "code",
   "execution_count": null,
   "metadata": {},
   "outputs": [],
   "source": [
    "rental['Duration'] = (rental['End_Datetime_Local']-rental['Start_Datetime_Local']).dt.total_seconds()/60"
   ]
  },
  {
   "cell_type": "code",
   "execution_count": null,
   "metadata": {},
   "outputs": [],
   "source": [
    "bins = np.arange(0, 600, 30) # fixed bin size\n",
    "plt.figure(figsize=(10,7))\n",
    "ax=plt.subplot(111)\n",
    "ax.hist((rental.loc[rental['Servicedrive_YN']==0, 'Duration']), bins=bins, density=True, label='Rentals', alpha=0.7, align='right')\n",
    "ax.hist((rental.loc[rental['Servicedrive_YN']==1, 'Duration']), bins=bins, density=True, label='Service drives', alpha=0.7, align='right')\n",
    "plt.legend()\n",
    "plt.xlabel('Duration in minutes')\n",
    "plt.yscale('log')\n",
    "plt.ylabel('Density')\n",
    "ax.yaxis.set_major_formatter(mtick.PercentFormatter(1.0, decimals=3))\n",
    "plt.show()"
   ]
  },
  {
   "cell_type": "markdown",
   "metadata": {},
   "source": [
    "### Revenue analysis"
   ]
  },
  {
   "cell_type": "code",
   "execution_count": null,
   "metadata": {},
   "outputs": [],
   "source": [
    "plt.figure(figsize=(10,7))\n",
    "ax=plt.subplot(111)\n",
    "rental['After_reloc'] = rental.groupby('Vehicle_Number_Plate')['Servicedrive_YN'].shift().fillna(0)\n",
    "ax.hist(rental[(rental['Servicedrive_YN']==0) & (rental['Revenue_Net']!=0)]['Revenue_Net'], bins=range(0,200,10), density=True, alpha=0.5, label='All revenues', align='right')\n",
    "ax.hist(rental[(rental['Servicedrive_YN']==0) & (rental['Revenue_Net']!=0) & (rental['After_reloc']==1)]['Revenue_Net'], bins=range(0,200,10), density=True, alpha=0.5, align='right', label='Revenues after relocation')\n",
    "ax.hist(rental[(rental['Servicedrive_YN']==0) & (rental['Revenue_Net']!=0) & (rental['After_reloc']==0)]['Revenue_Net'], bins=range(0,200,10), density=True, alpha=0.5, align='right', label='Revenues without relocation')\n",
    "plt.legend()\n",
    "plt.xlabel('Revenue')\n",
    "plt.ylabel('Density')\n",
    "ax.yaxis.set_major_formatter(mtick.PercentFormatter(1.0, decimals=2))\n",
    "plt.show()\n",
    "print('Mean total:', '{:2.2f}'.format(rental[(rental['Servicedrive_YN']==0) & (rental['Revenue_Net']!=0)]['Revenue_Net'].mean()))\n",
    "print('Mean after relocation:', '{:2.2f}'.format(rental[(rental['Servicedrive_YN']==0) & (rental['Revenue_Net']!=0) & (rental['After_reloc']==1)]['Revenue_Net'].mean()))\n",
    "print('Mean without relocation:', '{:2.2f}'.format(rental[(rental['Servicedrive_YN']==0) & (rental['Revenue_Net']!=0) & (rental['After_reloc']==0)]['Revenue_Net'].mean()))\n",
    "print('Increase:', '{:2.2%}'.format(rental[(rental['Servicedrive_YN']==0) & (rental['Revenue_Net']!=0) & (rental['After_reloc']==1)]['Revenue_Net'].mean()/rental[(rental['Servicedrive_YN']==0) & (rental['Revenue_Net']!=0)]['Revenue_Net'].mean()-1))"
   ]
  },
  {
   "cell_type": "code",
   "execution_count": null,
   "metadata": {},
   "outputs": [],
   "source": [
    "def running_mean(x, N):\n",
    "    cumsum = np.cumsum(np.insert(x, 0, 0)) \n",
    "    return (cumsum[N:] - cumsum[:-N]) / float(N)\n",
    "    \n",
    "rental['After_reloc'] = rental.groupby('Vehicle_Number_Plate')['Servicedrive_YN'].shift().fillna(0)\n",
    "rev = [rental[(rental['Servicedrive_YN']==0) & (rental['Revenue_Net']!=0) & (rental['After_reloc']!=0)]['Revenue_Net'].mean()]\n",
    "for _ in tqdm(range(1000)):\n",
    "    rental['After_reloc'] = rental.groupby('Vehicle_Number_Plate')['After_reloc'].shift().fillna(0)\n",
    "    rev.append(rental[(rental['Servicedrive_YN']==0) & (rental['Revenue_Net']!=0) & (rental['After_reloc']!=0)]['Revenue_Net'].mean())"
   ]
  },
  {
   "cell_type": "code",
   "execution_count": null,
   "metadata": {},
   "outputs": [],
   "source": [
    "# Not used\n",
    "plt.figure(figsize=(10,7))\n",
    "ax=plt.subplot(111)\n",
    "ax.plot(running_mean(rev, 50))\n",
    "plt.xlabel('$n^{th}$ trip after relocation')\n",
    "plt.ylabel('Net revenue generated')\n",
    "plt.show()"
   ]
  },
  {
   "cell_type": "code",
   "execution_count": null,
   "metadata": {},
   "outputs": [],
   "source": [
    "coef = np.polyfit(rental.loc[rental['Servicedrive_YN']==0, 'Duration'], rental.loc[rental['Servicedrive_YN']==0, 'Revenue_Net'], 1)\n",
    "poly1d_fn = np.poly1d(coef) \n",
    "\n",
    "plt.figure(figsize=(10,7))\n",
    "ax=plt.subplot(111)\n",
    "ax.scatter(rental.loc[rental['Servicedrive_YN']==0, 'Duration'], rental.loc[rental['Servicedrive_YN']==0, 'Revenue_Net'], s=1, label='Historical rentals')\n",
    "ax.plot(range(0, 15000, 100), poly1d_fn(range(0, 15000, 100)), c='orange', label='Linear fit')\n",
    "plt.xlim([1, 15000])\n",
    "plt.ylim([1, 5000])\n",
    "plt.xlabel('Duration of the trip in minutes')\n",
    "plt.ylabel('Net revenue generated')\n",
    "plt.legend()\n",
    "# plt.xscale('log')\n",
    "# plt.yscale('log')\n",
    "plt.show()\n",
    "print(coef)\n",
    "np.corrcoef(rental.loc[rental['Servicedrive_YN']==0, 'Duration'], rental.loc[rental['Servicedrive_YN']==0, 'Revenue_Net'])"
   ]
  },
  {
   "cell_type": "code",
   "execution_count": null,
   "metadata": {},
   "outputs": [],
   "source": [
    "rental.loc[rental['Servicedrive_YN']==1]"
   ]
  },
  {
   "cell_type": "code",
   "execution_count": null,
   "metadata": {},
   "outputs": [],
   "source": [
    "d, h = 0, 16\n",
    "rdh = rental[(rental['Start_Datetime_Local'].dt.weekday==d)]\n",
    "rdh['Hour'] = rental['Start_Datetime_Local'].dt.hour\n",
    "rdh = [rdh.loc[rdh['Hour']==i,['Start_GPS_Latitude', 'Start_GPS_Longitude']].values.tolist() for i in range(24)]\n",
    "odh = openings[(openings['Created_Datetime_Local'].dt.weekday==d)]\n",
    "odh['Hour'] = openings['Created_Datetime_Local'].dt.hour\n",
    "odh = [odh.loc[odh['Hour']==i,['GPS_Latitude', 'GPS_Longitude']].values.tolist() for i in range(24)]"
   ]
  },
  {
   "cell_type": "code",
   "execution_count": null,
   "metadata": {},
   "outputs": [],
   "source": [
    "rental_map = folium.Map(center_coords, zoom_start=12, tiles='Stamen Toner')\n",
    "folium.plugins.HeatMapWithTime(rdh,\n",
    "name=None, min_opacity=0.5, radius=8,\n",
    "gradient=None, overlay=True, control=True, show=True, auto_play=True).add_to(rental_map)\n",
    "display(rental_map)"
   ]
  },
  {
   "cell_type": "code",
   "execution_count": null,
   "metadata": {},
   "outputs": [],
   "source": [
    "open_map = folium.Map(center_coords, zoom_start=12, tiles='Stamen Toner')\n",
    "folium.plugins.HeatMapWithTime(odh,\n",
    "name=None, min_opacity=0.5, radius=8, gradient=None, overlay=True, control=True, show=True, auto_play=True).add_to(open_map)\n",
    "display(open_map)"
   ]
  },
  {
   "cell_type": "code",
   "execution_count": null,
   "metadata": {},
   "outputs": [],
   "source": [
    "rental_map = folium.Map(center_coords, zoom_start=12, tiles='Stamen Toner')\n",
    "folium.plugins.HeatMap(rdh[h], name=None, min_opacity=0.5, max_zoom=18, radius=5,\n",
    "blur=5, gradient=None, overlay=True, control=True, show=True).add_to(rental_map)\n",
    "display(rental_map)"
   ]
  },
  {
   "cell_type": "code",
   "execution_count": null,
   "metadata": {},
   "outputs": [],
   "source": [
    "open_map = folium.Map(center_coords, zoom_start=12, tiles='Stamen Toner')\n",
    "folium.plugins.HeatMap(odh[h], name=None, min_opacity=0.5, max_zoom=18, radius=9,\n",
    "blur=10, gradient=None, overlay=True, control=True, show=True).add_to(open_map)\n",
    "\n",
    "display(open_map)"
   ]
  },
  {
   "cell_type": "markdown",
   "metadata": {},
   "source": [
    "### App openings vs. rentals"
   ]
  },
  {
   "cell_type": "code",
   "execution_count": null,
   "metadata": {},
   "outputs": [],
   "source": [
    "timepoints = np.arange(time_start, time_end, timedelta(minutes=30))\n",
    "lens=[np.array([len(rental[(rental['Start_Datetime_Local']>timepoints[i]) & (rental['Start_Datetime_Local']<timepoints[i+1])]),\n",
    "len(openings[(openings['Created_Datetime_Local']>timepoints[i]) & (openings['Created_Datetime_Local']<timepoints[i+1])])]) for i in tqdm(range(len(timepoints[:-1])))]\n",
    "lens=np.array(lens)\n",
    "lens[(lens[:,1]>0)&(lens[:,0]<lens[:,1]),0]/lens[(lens[:,1]>0)&(lens[:,0]<lens[:,1]),1]\n"
   ]
  },
  {
   "cell_type": "code",
   "execution_count": null,
   "metadata": {},
   "outputs": [],
   "source": [
    "plt.hist(lens[(lens[:,1]>0)&(lens[:,0]<lens[:,1]),0]/lens[(lens[:,1]>0)&(lens[:,0]<lens[:,1]),1], bins=50)\n",
    "plt.xlim((0,1))\n",
    "plt.show()"
   ]
  },
  {
   "cell_type": "code",
   "execution_count": null,
   "metadata": {},
   "outputs": [],
   "source": [
    "len(lens[lens[:,1]==0])/len(lens)"
   ]
  },
  {
   "cell_type": "code",
   "execution_count": null,
   "metadata": {},
   "outputs": [],
   "source": [
    "d=lens[(lens[:,1]>0)&(lens[:,0]<lens[:,1]),0]/lens[(lens[:,1]>0)&(lens[:,0]<lens[:,1]),1]\n",
    "d.mean()"
   ]
  },
  {
   "cell_type": "markdown",
   "metadata": {},
   "source": [
    "### Area generation"
   ]
  },
  {
   "cell_type": "code",
   "execution_count": null,
   "metadata": {},
   "outputs": [],
   "source": [
    "plt.figure(figsize=(10,7))\n",
    "plt.plot(vao.iloc[1:,0], vao.iloc[1:,1])\n",
    "plt.xlabel('Number of clusters')\n",
    "plt.ylabel('Silhouette score')\n",
    "plt.show()"
   ]
  },
  {
   "cell_type": "code",
   "execution_count": null,
   "metadata": {},
   "outputs": [],
   "source": [
    "plt.figure(figsize=(10,7))\n",
    "ax=plt.subplot(111)\n",
    "ax.bar(x=range(1,len(virtual_area_centers)+1), height=rental.groupby('Virtual_Start_Zone_Name')['Vehicle_Number_Plate'].count().sort_values(ascending=False).values/len(rental), alpha=0.7, label='Virtual', width=1)\n",
    "ax.bar(x=range(1,len(area_centers)+1), height=rental.groupby('Start_Zone_Name')['Vehicle_Number_Plate'].count().sort_values(ascending=False).values/len(rental), alpha=0.7, label='Original', width=1)\n",
    "plt.xscale('log')\n",
    "ax.xaxis.set_major_formatter(mtick.ScalarFormatter())\n",
    "plt.yscale('log')\n",
    "plt.ylim((0.0001,1))\n",
    "ax.yaxis.set_major_formatter(mtick.PercentFormatter(1.0, decimals=2))\n",
    "plt.xlabel('Areas sorted from most to least rentals')\n",
    "plt.ylabel('Percentage of rentals starting in area')\n",
    "plt.legend()\n",
    "plt.show()"
   ]
  },
  {
   "cell_type": "code",
   "execution_count": null,
   "metadata": {},
   "outputs": [],
   "source": [
    "start_map = folium.Map(center_coords, zoom_start=12, tiles='Stamen Toner')\n",
    "for name, row in area_centers.iterrows():\n",
    "    folium.CircleMarker(\n",
    "        radius=5,\n",
    "        location=[row['Start_GPS_Latitude'], row['Start_GPS_Longitude']],\n",
    "        color=\"crimson\",\n",
    "        tooltip=name,\n",
    "        fill=False,\n",
    "    ).add_to(start_map)\n",
    "for name, row in virtual_area_centers.iterrows():\n",
    "    folium.CircleMarker(\n",
    "        radius=5,\n",
    "        location=[row['GPS_Latitude'], row['GPS_Longitude']],\n",
    "        color=\"blue\",\n",
    "        tooltip=name, \n",
    "        fill=True\n",
    "    ).add_to(start_map)\n",
    "display(start_map)"
   ]
  },
  {
   "cell_type": "markdown",
   "metadata": {},
   "source": [
    "# Results"
   ]
  },
  {
   "cell_type": "code",
   "execution_count": null,
   "metadata": {},
   "outputs": [],
   "source": [
    "def remove_redundant_moves(mp):\n",
    "    mp = mp[mp!=mp.index] # Clean moves to self\n",
    "    # Clean areas with delta cars = 0: 4->3 + 3->5 = 4->5\n",
    "    ji = 0\n",
    "    while ji <= len(mp):\n",
    "        jump=True\n",
    "        jj = 0\n",
    "        while jump:\n",
    "            try:\n",
    "                o = mp[ji]\n",
    "                mp[ji]=mp[mp[ji]]\n",
    "                mp.drop(o, inplace=True)\n",
    "                jj += 1\n",
    "            except KeyError:\n",
    "                jump = False\n",
    "        ji += 1\n",
    "    mp = mp[mp!=mp.index] # Clean moves to self that originated from loops"
   ]
  },
  {
   "cell_type": "code",
   "execution_count": 191,
   "metadata": {},
   "outputs": [],
   "source": [
    "scores = {}\n",
    "all_scores = list(filter(lambda k: 'score' in k, glob(str(Path.cwd().parent.parent / 'reports/train/*/'))))\n",
    "for score in all_scores:\n",
    "    all_files = glob(str(score + \"/*.csv\"))\n",
    "    revenues = {}\n",
    "    for file in all_files:\n",
    "        data = pd.read_csv(file, header=None).mean().values[0]\n",
    "        revenues[file[file.rfind(\"sim_\")+4:file.rfind(\".\")]] = data\n",
    "    scores[score[score.rfind(\"_\")+1:]] = revenues\n",
    "scores = pd.DataFrame(scores).sort_index()\n",
    "scores = scores.reindex(scores.columns.sort_values(), axis=1)"
   ]
  },
  {
   "cell_type": "code",
   "execution_count": 192,
   "metadata": {},
   "outputs": [],
   "source": [
    "sme = scores[scores.index.str.contains('me')]\n",
    "sme.index = sme.index.str.replace('_me','').astype(int)\n",
    "sme.sort_index(inplace=True)\n",
    "\n",
    "sdqn = scores[scores.index.str.contains('dqn')]\n",
    "sdqn.index = sdqn.index.str.replace('_dqn','').astype(int)\n",
    "sdqn.sort_index(inplace=True)\n",
    "sdqn = sdqn[1:]\n",
    "\n",
    "scqn = scores[scores.index.str.contains('cqn')]\n",
    "scqn.index = scqn.index.str.replace('_cqn','').astype(int)\n",
    "scqn.sort_index(inplace=True)\n",
    "scqn = scqn[1:]\n",
    "\n",
    "sh = scores[scores.index.str.contains('hist')]"
   ]
  },
  {
   "cell_type": "code",
   "execution_count": 197,
   "metadata": {},
   "outputs": [
    {
     "data": {
      "image/png": "[encoded data removed]",
      "text/plain": [
       "<Figure size 1440x864 with 11 Axes>"
      ]
     },
     "metadata": {
      "needs_background": "light"
     },
     "output_type": "display_data"
    }
   ],
   "source": [
    "fig = plt.figure(figsize=(20,12))\n",
    "sp=231\n",
    "for cost in sh.columns:\n",
    "    ax1 = plt.subplot(sp)\n",
    "    ax1.bar(sdqn.index-0.1, sdqn.loc[:,cost], width=0.2, label='DQN')\n",
    "    ax1.bar(scqn.index+0.1, scqn.loc[:,cost], width=0.2, label='CQN')\n",
    "    ax2 = ax1.twiny()\n",
    "    ax2.semilogx(sme.index, sme.loc[:,cost], c='r', label='Constant moves')\n",
    "    ax2.semilogx(sme.index, [sh.loc[:,cost].values[0]]*len(sme), c='g', label='Historical moves')\n",
    "    ax2.axis('off')\n",
    "    ax1.set_title(f'Scores with cost factor {cost}')\n",
    "    plt.xticks(ticks=range(1,len(sh.columns)+1), labels=sh.columns.values)\n",
    "    plt.xlabel('Cost while training')\n",
    "    plt.ylabel('Total reward')\n",
    "    handles1, labels1 = ax1.get_legend_handles_labels()\n",
    "    handles2, labels2 = ax2.get_legend_handles_labels()\n",
    "    sp += 1\n",
    "ax = plt.subplot(sp) # This and next line to fix lengend position\n",
    "ax.axis('off')\n",
    "ax.legend(handles1+handles2, labels1+labels2, loc='lower right')\n",
    "fig.subplots_adjust(wspace=0.5, hspace=0.5)\n",
    "plt.show()"
   ]
  },
  {
   "cell_type": "code",
   "execution_count": null,
   "metadata": {},
   "outputs": [],
   "source": [
    "time_start, time_window = datetime(2020,6,1,0,0,0), timedelta(minutes=30)\n",
    "m0 = pd.read_csv((Path.cwd().parent.parent / 'reports' / 'moves_train' / 'td_0_dqn.csv'), header=None)\n",
    "m1 = pd.read_csv((Path.cwd().parent.parent / 'reports' / 'moves_train' / 'td_1_dqn.csv'), header=None)\n",
    "m2 = pd.read_csv((Path.cwd().parent.parent / 'reports' / 'moves_train' / 'td_2_dqn.csv'), header=None)\n",
    "m3 = pd.read_csv((Path.cwd().parent.parent / 'reports' / 'moves_train' / 'td_3_dqn.csv'), header=None)\n",
    "m4 = pd.read_csv((Path.cwd().parent.parent / 'reports' / 'moves_train' / 'td_4_dqn.csv'), header=None)\n",
    "m5 = pd.read_csv((Path.cwd().parent.parent / 'reports' / 'moves_train' / 'td_5_dqn.csv'), header=None)\n",
    "m6 = pd.read_csv((Path.cwd().parent.parent / 'reports' / 'moves_train' / 'td_6_dqn.csv'), header=None)"
   ]
  },
  {
   "cell_type": "code",
   "execution_count": null,
   "metadata": {},
   "outputs": [],
   "source": [
    "pld = timedelta(days=22, hours=8)\n",
    "i = int(pld.days + pld.seconds/1800)\n",
    "op = openings[(openings['Created_Datetime_Local']>time_start+pld) & (openings['Created_Datetime_Local']<=time_start+time_window+pld)]\n",
    "lp = locations[locations['Time']==time_start+pld]\n",
    "lp=lp.loc[:,lp.columns.str.contains('Vehicle')].sum(axis=1)\n",
    "mp=m3.iloc[i]\n",
    "remove_redundant_moves(mp)"
   ]
  },
  {
   "cell_type": "code",
   "execution_count": null,
   "metadata": {},
   "outputs": [],
   "source": [
    "move_map = folium.Map(center_coords, zoom_start=12, tiles='Stamen Toner')\n",
    "folium.plugins.HeatMap(op.loc[:,['GPS_Latitude', 'GPS_Longitude']], name=None, min_opacity=0.5, max_zoom=18, radius=10,\n",
    "blur=8, gradient=None, overlay=True, control=True, show=True).add_to(move_map)\n",
    "for name, row in virtual_area_centers.iterrows():\n",
    "    folium.CircleMarker(\n",
    "        radius=5,\n",
    "        location=[row['GPS_Latitude'], row['GPS_Longitude']],\n",
    "        color=\"blue\",\n",
    "        tooltip=name, \n",
    "        fill=True\n",
    "    ).add_to(move_map)\n",
    "for start, end in mp.iteritems():\n",
    "    sc = virtual_area_centers.iloc[start, [1,2]].values.tolist()\n",
    "    ec = virtual_area_centers.iloc[end, [1,2]].values.tolist()\n",
    "    mpos = [(sc[0]+ec[0])/2, (sc[1]+ec[1])/2]\n",
    "    _, angle, _ = geo.inv(sc[1], sc[0], ec[1], ec[0])\n",
    "    folium.RegularPolygonMarker(location=mpos, fill_color='blue', number_of_sides=3, radius=10, rotation=angle+90, opacity=1, fill_opacity=1).add_to(move_map)\n",
    "    folium.PolyLine(\n",
    "        locations=[sc,ec],\n",
    "        weight=2,color = 'blue').add_to(move_map)\n",
    "display(move_map)"
   ]
  },
  {
   "cell_type": "code",
   "execution_count": null,
   "metadata": {},
   "outputs": [],
   "source": [
    "tm0=(m0!=m0.columns).sum(axis=1)\n",
    "tm1=(m1!=m1.columns).sum(axis=1)\n",
    "tm2=(m2!=m2.columns).sum(axis=1)\n",
    "tm3=(m3!=m3.columns).sum(axis=1)\n",
    "tm4=(m4!=m4.columns).sum(axis=1)\n",
    "tm5=(m5!=m5.columns).sum(axis=1)\n",
    "tm6=(m6!=m6.columns).sum(axis=1)"
   ]
  },
  {
   "cell_type": "code",
   "execution_count": null,
   "metadata": {},
   "outputs": [],
   "source": [
    "plt.hist([tm0, tm1, tm2, tm3, tm4, tm5, tm6], label=['0', '1', '2', '3', '4', '5', '6'])\n",
    "plt.xticks(range(15,21))\n",
    "plt.legend()\n",
    "plt.show()"
   ]
  },
  {
   "cell_type": "code",
   "execution_count": null,
   "metadata": {},
   "outputs": [],
   "source": []
  }
 ],
 "metadata": {
  "interpreter": {
   "hash": "852e6e7e2003e5c2ac78967e021f00941c12ea2f5fb482c9af733c26d1ccf9aa"
  },
  "kernelspec": {
   "display_name": "Python 3.9.5 64-bit",
   "language": "python",
   "name": "python3"
  },
  "language_info": {
   "codemirror_mode": {
    "name": "ipython",
    "version": 3
   },
   "file_extension": ".py",
   "mimetype": "text/x-python",
   "name": "python",
   "nbconvert_exporter": "python",
   "pygments_lexer": "ipython3",
   "version": "3.9.5"
  },
  "orig_nbformat": 4
 },
 "nbformat": 4,
 "nbformat_minor": 2
}
