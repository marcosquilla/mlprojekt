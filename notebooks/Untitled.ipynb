{
 "cells": [
  {
   "cell_type": "code",
   "execution_count": 1,
   "id": "published-factory",
   "metadata": {},
   "outputs": [
    {
     "name": "stderr",
     "output_type": "stream",
     "text": [
      "/tmp/ipykernel_14545/912229180.py:1: DeprecationWarning: Importing display from IPython.core.display is deprecated since IPython 7.14, please import from IPython display\n",
      "  from IPython.core.display import display, HTML\n"
     ]
    },
    {
     "data": {
      "text/html": [
       "<style>.container { width:90% !important; }</style>"
      ],
      "text/plain": [
       "<IPython.core.display.HTML object>"
      ]
     },
     "metadata": {},
     "output_type": "display_data"
    }
   ],
   "source": [
    "from IPython.core.display import display, HTML\n",
    "display(HTML(\"<style>.container { width:90% !important; }</style>\"))"
   ]
  },
  {
   "cell_type": "code",
   "execution_count": 61,
   "id": "injured-trading",
   "metadata": {},
   "outputs": [],
   "source": [
    "from pathlib import Path\n",
    "from datetime import datetime, timedelta\n",
    "import numpy as np\n",
    "import pandas as pd\n",
    "import matplotlib.pyplot as plt\n",
    "import folium\n",
    "import folium.plugins\n",
    "from itertools import product\n",
    "from pyproj import Geod\n",
    "wgs84_geod = Geod(ellps='WGS84') # Distance will be measured in meters on this ellipsoid - more accurate than a spherical method\n",
    "from tqdm import tqdm"
   ]
  },
  {
   "cell_type": "code",
   "execution_count": 4,
   "id": "7a9e8bf8",
   "metadata": {},
   "outputs": [],
   "source": [
    "actions = pd.read_csv((Path.cwd().parent / 'data' / 'processed' / 'actions.csv'), parse_dates=['Time'])"
   ]
  },
  {
   "cell_type": "code",
   "execution_count": 15,
   "id": "fdcd2e7e",
   "metadata": {},
   "outputs": [
    {
     "name": "stdout",
     "output_type": "stream",
     "text": [
      "BMW_1ER\n"
     ]
    }
   ],
   "source": [
    "for _, action in actions[actions['Time']==datetime(2020, 2, 2, 9, 30, 0)].iterrows():\n",
    "    print(action[action==1].index[action[action==1].index.str.contains('Vehicle')][0][14:])"
   ]
  },
  {
   "cell_type": "code",
   "execution_count": 62,
   "id": "analyzed-deployment",
   "metadata": {},
   "outputs": [],
   "source": [
    "area_centers = pd.read_csv((Path.cwd().parent / 'data' / 'processed' / 'areas.csv'), index_col=0)\n",
    "rental = pd.read_csv((Path.cwd().parent / 'data' / 'interim' / 'rental.csv'), parse_dates=['Start_Datetime_Local', 'End_Datetime_Local'])\n",
    "demand = pd.read_csv((Path.cwd().parent / 'data' / 'interim' / 'openings.csv'), parse_dates=['Created_Datetime_Local'])"
   ]
  },
  {
   "cell_type": "code",
   "execution_count": 63,
   "id": "continuous-modification",
   "metadata": {},
   "outputs": [],
   "source": [
    "rental=pd.read_csv((Path.cwd().parent / 'data' / 'interim' / 'rental.csv'), parse_dates=['Start_Datetime_Local', 'End_Datetime_Local'])"
   ]
  },
  {
   "cell_type": "code",
   "execution_count": 10,
   "id": "ef1e5121",
   "metadata": {},
   "outputs": [],
   "source": [
    "dists = np.zeros([len(area_centers), len(area_centers)])\n",
    "for o, d in list(product(area_centers.index, repeat=2)):\n",
    "    _,_,dists[o,d] = wgs84_geod.inv(\n",
    "        area_centers.iloc[o]['GPS_Longitude'], area_centers.iloc[o]['GPS_Latitude'],\n",
    "        area_centers.iloc[d]['GPS_Longitude'], area_centers.iloc[d]['GPS_Latitude'])"
   ]
  },
  {
   "cell_type": "code",
   "execution_count": 47,
   "id": "121791f8",
   "metadata": {},
   "outputs": [
    {
     "name": "stderr",
     "output_type": "stream",
     "text": [
      "1594902it [01:57, 13516.12it/s]\n"
     ]
    }
   ],
   "source": [
    "d = 0\n",
    "for _, r in tqdm(rental.iterrows()):\n",
    "    d = d + dists[r['Virtual_Start_Zone_Name'],r['Virtual_End_Zone_Name']]"
   ]
  },
  {
   "cell_type": "code",
   "execution_count": 50,
   "id": "d007d98e",
   "metadata": {},
   "outputs": [],
   "source": [
    "dist_per_trip = d/len(rental)"
   ]
  },
  {
   "cell_type": "code",
   "execution_count": 64,
   "id": "782fa269",
   "metadata": {},
   "outputs": [
    {
     "data": {
      "text/plain": [
       "113588545.53999996"
      ]
     },
     "execution_count": 64,
     "metadata": {},
     "output_type": "execute_result"
    }
   ],
   "source": [
    "rental['Revenue_Net'].sum()"
   ]
  },
  {
   "cell_type": "code",
   "execution_count": 54,
   "id": "911c5aa8",
   "metadata": {},
   "outputs": [
    {
     "data": {
      "text/plain": [
       "28985.680888589708"
      ]
     },
     "execution_count": 54,
     "metadata": {},
     "output_type": "execute_result"
    }
   ],
   "source": [
    "rental['Revenue_Net'].sum()/dist_per_trip"
   ]
  },
  {
   "cell_type": "code",
   "execution_count": 60,
   "id": "3a71a301",
   "metadata": {},
   "outputs": [
    {
     "data": {
      "text/plain": [
       "0.846283"
      ]
     },
     "execution_count": 60,
     "metadata": {},
     "output_type": "execute_result"
    }
   ],
   "source": [
    "((rental['End_Datetime_Local']-rental['Start_Datetime_Local']).mean()/dist_per_trip).total_seconds()"
   ]
  },
  {
   "cell_type": "code",
   "execution_count": 23,
   "id": "industrial-terminology",
   "metadata": {},
   "outputs": [
    {
     "ename": "NameError",
     "evalue": "name 'loc' is not defined",
     "output_type": "error",
     "traceback": [
      "\u001b[0;31m---------------------------------------------------------------------------\u001b[0m",
      "\u001b[0;31mNameError\u001b[0m                                 Traceback (most recent call last)",
      "Input \u001b[0;32mIn [23]\u001b[0m, in \u001b[0;36m<module>\u001b[0;34m\u001b[0m\n\u001b[1;32m      1\u001b[0m start_map \u001b[38;5;241m=\u001b[39m folium\u001b[38;5;241m.\u001b[39mMap([\u001b[38;5;241m55.6785706133019\u001b[39m, \u001b[38;5;241m12.594427257404426\u001b[39m], zoom_start\u001b[38;5;241m=\u001b[39m\u001b[38;5;241m12\u001b[39m, tiles\u001b[38;5;241m=\u001b[39m\u001b[38;5;124m'\u001b[39m\u001b[38;5;124mStamen Toner\u001b[39m\u001b[38;5;124m'\u001b[39m)\n\u001b[0;32m----> 2\u001b[0m \u001b[38;5;28;01mfor\u001b[39;00m name, row \u001b[38;5;129;01min\u001b[39;00m \u001b[43mloc\u001b[49m\u001b[38;5;241m.\u001b[39miterrows():\n\u001b[1;32m      3\u001b[0m     folium\u001b[38;5;241m.\u001b[39mCircleMarker(\n\u001b[1;32m      4\u001b[0m         radius\u001b[38;5;241m=\u001b[39m\u001b[38;5;241m5\u001b[39m,\n\u001b[1;32m      5\u001b[0m         location\u001b[38;5;241m=\u001b[39m[row[\u001b[38;5;124m'\u001b[39m\u001b[38;5;124mStart_GPS_Latitude\u001b[39m\u001b[38;5;124m'\u001b[39m], row[\u001b[38;5;124m'\u001b[39m\u001b[38;5;124mStart_GPS_Longitude\u001b[39m\u001b[38;5;124m'\u001b[39m]],\n\u001b[0;32m   (...)\u001b[0m\n\u001b[1;32m      8\u001b[0m         fill\u001b[38;5;241m=\u001b[39m\u001b[38;5;28;01mTrue\u001b[39;00m\n\u001b[1;32m      9\u001b[0m     )\u001b[38;5;241m.\u001b[39madd_to(start_map)\n\u001b[1;32m     10\u001b[0m \u001b[38;5;28;01mfor\u001b[39;00m name, row \u001b[38;5;129;01min\u001b[39;00m d\u001b[38;5;241m.\u001b[39miterrows():\n",
      "\u001b[0;31mNameError\u001b[0m: name 'loc' is not defined"
     ]
    }
   ],
   "source": [
    "start_map = folium.Map([55.6785706133019, 12.594427257404426], zoom_start=12, tiles='Stamen Toner')\n",
    "for name, row in loc.iterrows():\n",
    "    folium.CircleMarker(\n",
    "        radius=5,\n",
    "        location=[row['Start_GPS_Latitude'], row['Start_GPS_Longitude']],\n",
    "        color=\"blue\",\n",
    "        tooltip=name, \n",
    "        fill=True\n",
    "    ).add_to(start_map)\n",
    "for name, row in d.iterrows():\n",
    "    folium.CircleMarker(\n",
    "        radius=5,\n",
    "        location=[row['GPS_Latitude'], row['GPS_Longitude']],\n",
    "        color=\"crimson\",\n",
    "        tooltip=name,\n",
    "        fill=False,\n",
    "    ).add_to(start_map)\n",
    "for name, row in r.iterrows():\n",
    "    folium.CircleMarker(\n",
    "        radius=5,\n",
    "        location=[row['Start_GPS_Latitude'], row['Start_GPS_Longitude']],\n",
    "        color=\"green\",\n",
    "        tooltip=name, \n",
    "        fill=True\n",
    "    ).add_to(start_map)\n",
    "display(start_map)"
   ]
  },
  {
   "cell_type": "code",
   "execution_count": null,
   "id": "functioning-ministry",
   "metadata": {},
   "outputs": [],
   "source": []
  }
 ],
 "metadata": {
  "kernelspec": {
   "display_name": "Python 3 (ipykernel)",
   "language": "python",
   "name": "python3"
  },
  "language_info": {
   "codemirror_mode": {
    "name": "ipython",
    "version": 3
   },
   "file_extension": ".py",
   "mimetype": "text/x-python",
   "name": "python",
   "nbconvert_exporter": "python",
   "pygments_lexer": "ipython3",
   "version": "3.9.6"
  }
 },
 "nbformat": 4,
 "nbformat_minor": 5
}
