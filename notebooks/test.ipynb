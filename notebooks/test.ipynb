{
 "cells": [
  {
   "cell_type": "code",
   "execution_count": null,
   "metadata": {
    "scrolled": true
   },
   "outputs": [],
   "source": [
    "from IPython.core.display import display, HTML\n",
    "display(HTML(\"<style>.container { width:90% !important; }</style>\"))"
   ]
  },
  {
   "cell_type": "code",
   "execution_count": null,
   "metadata": {},
   "outputs": [],
   "source": [
    "from pathlib import Path\n",
    "import numpy as np\n",
    "import pandas as pd\n",
    "import torch\n",
    "import matplotlib.pyplot as plt"
   ]
  },
  {
   "cell_type": "code",
   "execution_count": null,
   "metadata": {},
   "outputs": [],
   "source": [
    "indices = pd.MultiIndex.from_frame(pd.read_csv((Path.cwd().parent / 'data' / 'processed' / 'locations.csv'), usecols=['Time', 'Vehicle_Number_Plate'], parse_dates=['Time'])).reorder_levels([1,0])\n",
    "area_centers = pd.read_csv((Path.cwd().parent / 'data' / 'processed' / 'areas.csv'), index_col=0)\n",
    "demand = pd.read_csv((Path.cwd().parent / 'data' / 'processed' / 'demand.csv'), index_col=0)\n",
    "locations = pd.read_csv((Path.cwd().parent / 'data' / 'processed' / 'locations.csv'), parse_dates=['Time'])\n",
    "actions = pd.read_csv((Path.cwd().parent / 'data' / 'processed' / 'actions.csv'), parse_dates=['Time'])"
   ]
  },
  {
   "cell_type": "code",
   "execution_count": null,
   "metadata": {},
   "outputs": [],
   "source": [
    "demand.index = pd.to_datetime(demand.index, format='%Y-%m-%d %H:%M')\n",
    "locations.index = pd.MultiIndex.from_frame(locations.loc[:,['Time', 'Vehicle_Number_Plate']])\n",
    "actionsi = pd.MultiIndex.from_frame(actions.loc[:,['Time', 'Vehicle_Number_Plate']])\n",
    "actions.index = actionsi\n",
    "locations.drop(labels=['Time', 'Vehicle_Number_Plate'], axis=1, inplace=True)\n",
    "actions.drop(labels=['Time', 'Vehicle_Number_Plate'], axis=1, inplace=True)\n",
    "vehicle_counts = locations.loc[:, locations.columns[locations.columns.str.contains('Zone')]].groupby('Time').sum()"
   ]
  },
  {
   "cell_type": "code",
   "execution_count": null,
   "metadata": {},
   "outputs": [],
   "source": [
    "rental = pd.read_csv((Path.cwd().parent / 'data' / 'interim' / 'rental.csv'), index_col=0, parse_dates=['Start_Datetime_Local', 'End_Datetime_Local'])"
   ]
  },
  {
   "cell_type": "code",
   "execution_count": null,
   "metadata": {},
   "outputs": [],
   "source": [
    "from tensorboard.backend.event_processing.event_accumulator import EventAccumulator\n",
    "event_acc = EventAccumulator(str(Path.cwd().parent /'models'/'stage_1'/'lightning_logs'/'version_1'))\n",
    "event_acc.Reload()\n",
    "# Show all tags in the log file"
   ]
  },
  {
   "cell_type": "code",
   "execution_count": null,
   "metadata": {},
   "outputs": [],
   "source": [
    "print(event_acc.Tags())"
   ]
  },
  {
   "cell_type": "code",
   "execution_count": null,
   "metadata": {},
   "outputs": [],
   "source": [
    "w_times, step_nums, vals = zip(*event_acc.Scalars('F1 score'))"
   ]
  },
  {
   "cell_type": "code",
   "execution_count": null,
   "metadata": {},
   "outputs": [],
   "source": [
    "pd.DataFrame([w_times, step_nums, vals], index=['wall_time', 'step', 'F1']).T.to_csv('lstm_f1.csv')"
   ]
  },
  {
   "cell_type": "code",
   "execution_count": null,
   "metadata": {},
   "outputs": [],
   "source": [
    "pd.merge(locations, actions, left_index=True, right_index=True, how='inner')"
   ]
  },
  {
   "cell_type": "code",
   "execution_count": null,
   "metadata": {},
   "outputs": [],
   "source": [
    "pd.merge(a,l,how='inner', on=['Time', 'Vehicle_Number_Plate'])"
   ]
  },
  {
   "cell_type": "code",
   "execution_count": null,
   "metadata": {},
   "outputs": [],
   "source": [
    "print('Indices')\n",
    "it = indices.to_list()\n",
    "%timeit it[1000]\n",
    "%timeit indices[1000]\n",
    "print('Locations')\n",
    "vloc=locations.values\n",
    "lloc=list(vloc)\n",
    "tloc=tuple(vloc)\n",
    "%timeit torch.tensor(locations.loc[indices[1000]].values)\n",
    "%timeit torch.tensor(locations.loc[it[1000][0], it[1000][1]].values)\n",
    "%timeit torch.tensor(locations.iloc[1000].values)\n",
    "%timeit torch.tensor(vloc[1000])\n",
    "%timeit torch.tensor(lloc[1000])\n",
    "%timeit torch.tensor(tloc[1000])\n",
    "print('Actions')\n",
    "at = actionsi.to_list()\n",
    "%timeit indices[1000] in actionsi\n",
    "%timeit indices[1000] in at\n",
    "%timeit it[1000] in at\n",
    "print('Demand')\n",
    "dt = demand.to_dict('index')\n",
    "%timeit torch.tensor(demand.loc[indices[1000][0]].values)\n",
    "%timeit torch.tensor(tuple(dt[indices[1000][0]].values()))\n",
    "%timeit torch.tensor(tuple(dt[it[1000][0]].values()))\n",
    "print('Counts')\n",
    "vc = vehicle_counts.to_dict('index')\n",
    "%timeit torch.tensor(vehicle_counts.loc[indices[1000][0]].values)\n",
    "%timeit torch.tensor(tuple(vc[indices[1000][0]].values()))\n",
    "%timeit torch.tensor(tuple(vc[it[1000][0]].values()))"
   ]
  },
  {
   "cell_type": "code",
   "execution_count": null,
   "metadata": {},
   "outputs": [],
   "source": [
    "t = len(pd.read_csv(Path.cwd().parent / 'data' / 'processed' / 'locations.csv', usecols=[0]))\n",
    "o = len(pd.read_csv(Path.cwd().parent / 'data' / 'processed' / 'actions.csv', usecols=[0]))\n",
    "pos_weight = (t-o)/o\n",
    "pos_weight"
   ]
  }
 ],
 "metadata": {
  "interpreter": {
   "hash": "d94d0ed83f522406a66ef1c16a9f665c01f55c8b7daf66f12e3948e08645e5e1"
  },
  "kernelspec": {
   "display_name": "Python 3 (ipykernel)",
   "language": "python",
   "name": "python3"
  },
  "language_info": {
   "codemirror_mode": {
    "name": "ipython",
    "version": 3
   },
   "file_extension": ".py",
   "mimetype": "text/x-python",
   "name": "python",
   "nbconvert_exporter": "python",
   "pygments_lexer": "ipython3",
   "version": "3.9.6"
  }
 },
 "nbformat": 4,
 "nbformat_minor": 2
}
