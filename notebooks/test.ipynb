{
 "cells": [
  {
   "cell_type": "code",
   "execution_count": 1,
   "metadata": {
    "scrolled": true
   },
   "outputs": [
    {
     "data": {
      "text/html": [
       "<style>.container { width:90% !important; }</style>"
      ],
      "text/plain": [
       "<IPython.core.display.HTML object>"
      ]
     },
     "metadata": {},
     "output_type": "display_data"
    }
   ],
   "source": [
    "from IPython.core.display import display, HTML\n",
    "display(HTML(\"<style>.container { width:90% !important; }</style>\"))"
   ]
  },
  {
   "cell_type": "code",
   "execution_count": 2,
   "metadata": {},
   "outputs": [],
   "source": [
    "from pathlib import Path\n",
    "import numpy as np\n",
    "import pandas as pd\n",
    "import torch\n",
    "import matplotlib.pyplot as plt"
   ]
  },
  {
   "cell_type": "code",
   "execution_count": 3,
   "metadata": {},
   "outputs": [],
   "source": [
    "indices = pd.MultiIndex.from_frame(pd.read_csv((Path.cwd().parent / 'data' / 'processed' / 'locations.csv'), usecols=['Time', 'Vehicle_Number_Plate'], parse_dates=['Time'])).reorder_levels([1,0])\n",
    "area_centers = pd.read_csv((Path.cwd().parent / 'data' / 'processed' / 'areas.csv'), index_col=0)\n",
    "demand = pd.read_csv((Path.cwd().parent / 'data' / 'processed' / 'demand.csv'), index_col=0)\n",
    "locations = pd.read_csv((Path.cwd().parent / 'data' / 'processed' / 'locations.csv'), parse_dates=['Time'])\n",
    "actions = pd.read_csv((Path.cwd().parent / 'data' / 'processed' / 'actions.csv'), parse_dates=['Time'])"
   ]
  },
  {
   "cell_type": "code",
   "execution_count": 4,
   "metadata": {},
   "outputs": [],
   "source": [
    "demand.index = pd.to_datetime(demand.index, format='%Y-%m-%d %H:%M')\n",
    "locations.index = pd.MultiIndex.from_frame(locations.loc[:,['Time', 'Vehicle_Number_Plate']])\n",
    "actionsi = pd.MultiIndex.from_frame(actions.loc[:,['Time', 'Vehicle_Number_Plate']])\n",
    "actions.index = actionsi\n",
    "locations.drop(labels=['Time', 'Vehicle_Number_Plate'], axis=1, inplace=True)\n",
    "actions.drop(labels=['Time', 'Vehicle_Number_Plate'], axis=1, inplace=True)\n",
    "vehicle_counts = locations.loc[:, locations.columns[locations.columns.str.contains('Zone')]].groupby('Time').sum()"
   ]
  },
  {
   "cell_type": "code",
   "execution_count": 25,
   "metadata": {},
   "outputs": [
    {
     "name": "stdout",
     "output_type": "stream",
     "text": [
      "Indices\n",
      "46.3 ns ± 4.77 ns per loop (mean ± std. dev. of 7 runs, 10000000 loops each)\n",
      "25.2 µs ± 6.26 µs per loop (mean ± std. dev. of 7 runs, 10000 loops each)\n",
      "Locations\n",
      "320 µs ± 17.2 µs per loop (mean ± std. dev. of 7 runs, 1000 loops each)\n",
      "365 µs ± 104 µs per loop (mean ± std. dev. of 7 runs, 1000 loops each)\n",
      "251 µs ± 84.1 µs per loop (mean ± std. dev. of 7 runs, 1000 loops each)\n",
      "8.6 µs ± 1.07 µs per loop (mean ± std. dev. of 7 runs, 100000 loops each)\n",
      "7.66 µs ± 654 ns per loop (mean ± std. dev. of 7 runs, 100000 loops each)\n",
      "7.2 µs ± 183 ns per loop (mean ± std. dev. of 7 runs, 100000 loops each)\n",
      "Actions\n",
      "57 µs ± 2.45 µs per loop (mean ± std. dev. of 7 runs, 10000 loops each)\n",
      "699 µs ± 25.1 µs per loop (mean ± std. dev. of 7 runs, 1000 loops each)\n",
      "637 µs ± 12.5 µs per loop (mean ± std. dev. of 7 runs, 1000 loops each)\n",
      "Demand\n",
      "205 µs ± 16.7 µs per loop (mean ± std. dev. of 7 runs, 10000 loops each)\n",
      "41.8 µs ± 2.09 µs per loop (mean ± std. dev. of 7 runs, 10000 loops each)\n",
      "8.33 µs ± 1.16 µs per loop (mean ± std. dev. of 7 runs, 100000 loops each)\n",
      "Counts\n",
      "374 µs ± 31.1 µs per loop (mean ± std. dev. of 7 runs, 1000 loops each)\n",
      "65 µs ± 10 µs per loop (mean ± std. dev. of 7 runs, 10000 loops each)\n",
      "8.32 µs ± 1.03 µs per loop (mean ± std. dev. of 7 runs, 100000 loops each)\n"
     ]
    }
   ],
   "source": [
    "print('Indices')\n",
    "it = indices.to_list()\n",
    "%timeit it[1000]\n",
    "%timeit indices[1000]\n",
    "print('Locations')\n",
    "vloc=locations.values\n",
    "lloc=list(vloc)\n",
    "tloc=tuple(vloc)\n",
    "%timeit torch.tensor(locations.loc[indices[1000]].values)\n",
    "%timeit torch.tensor(locations.loc[it[1000][0], it[1000][1]].values)\n",
    "%timeit torch.tensor(locations.iloc[1000].values)\n",
    "%timeit torch.tensor(vloc[1000])\n",
    "%timeit torch.tensor(lloc[1000])\n",
    "%timeit torch.tensor(tloc[1000])\n",
    "print('Actions')\n",
    "at = actionsi.to_list()\n",
    "%timeit indices[1000] in actionsi\n",
    "%timeit indices[1000] in at\n",
    "%timeit it[1000] in at\n",
    "print('Demand')\n",
    "dt = demand.to_dict('index')\n",
    "%timeit torch.tensor(demand.loc[indices[1000][0]].values)\n",
    "%timeit torch.tensor(tuple(dt[indices[1000][0]].values()))\n",
    "%timeit torch.tensor(tuple(dt[it[1000][0]].values()))\n",
    "print('Counts')\n",
    "vc = vehicle_counts.to_dict('index')\n",
    "%timeit torch.tensor(vehicle_counts.loc[indices[1000][0]].values)\n",
    "%timeit torch.tensor(tuple(vc[indices[1000][0]].values()))\n",
    "%timeit torch.tensor(tuple(vc[it[1000][0]].values()))"
   ]
  },
  {
   "cell_type": "code",
   "execution_count": null,
   "metadata": {},
   "outputs": [],
   "source": []
  }
 ],
 "metadata": {
  "interpreter": {
   "hash": "d94d0ed83f522406a66ef1c16a9f665c01f55c8b7daf66f12e3948e08645e5e1"
  },
  "kernelspec": {
   "display_name": "Python 3 (ipykernel)",
   "language": "python",
   "name": "python3"
  },
  "language_info": {
   "codemirror_mode": {
    "name": "ipython",
    "version": 3
   },
   "file_extension": ".py",
   "mimetype": "text/x-python",
   "name": "python",
   "nbconvert_exporter": "python",
   "pygments_lexer": "ipython3",
   "version": "3.9.5"
  }
 },
 "nbformat": 4,
 "nbformat_minor": 2
}
