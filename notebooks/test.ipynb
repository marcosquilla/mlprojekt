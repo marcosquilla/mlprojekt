{
 "cells": [
  {
   "cell_type": "code",
   "execution_count": 1,
   "metadata": {},
   "outputs": [
    {
     "data": {
      "text/html": [
       "<style>.container { width:90% !important; }</style>"
      ],
      "text/plain": [
       "<IPython.core.display.HTML object>"
      ]
     },
     "metadata": {},
     "output_type": "display_data"
    }
   ],
   "source": [
    "from IPython.core.display import display, HTML\n",
    "display(HTML(\"<style>.container { width:90% !important; }</style>\"))"
   ]
  },
  {
   "cell_type": "code",
   "execution_count": 2,
   "metadata": {},
   "outputs": [],
   "source": [
    "from pathlib import Path\n",
    "import numpy as np\n",
    "import pandas as pd\n",
    "import torch\n",
    "from datetime import datetime, timedelta\n",
    "from pyproj import Geod\n",
    "from tqdm import tqdm\n",
    "import matplotlib.pyplot as plt"
   ]
  },
  {
   "cell_type": "code",
   "execution_count": 5,
   "metadata": {},
   "outputs": [],
   "source": [
    "indices = pd.MultiIndex.from_frame(pd.read_csv((Path.cwd().parent / 'data' / 'processed' / 'locations.csv'), usecols=['Time', 'Vehicle_Number_Plate'], parse_dates=['Time'])).reorder_levels([1,0])\n",
    "area_centers = pd.read_csv((Path.cwd().parent / 'data' / 'processed' / 'areas.csv'), index_col=0)\n",
    "demand = pd.read_csv((Path.cwd().parent / 'data' / 'processed' / 'demand.csv'), index_col=0)\n",
    "locations = pd.read_csv((Path.cwd().parent / 'data' / 'processed' / 'locations.csv'), parse_dates=['Time'])\n",
    "actions = pd.read_csv((Path.cwd().parent / 'data' / 'processed' / 'actions.csv'), parse_dates=['Time'])"
   ]
  },
  {
   "cell_type": "code",
   "execution_count": 6,
   "metadata": {},
   "outputs": [],
   "source": [
    "demand.index = pd.to_datetime(demand.index, format='%Y-%m-%d %H:%M')\n",
    "locations.index = pd.MultiIndex.from_frame(locations.loc[:,['Time', 'Vehicle_Number_Plate']])\n",
    "actions = pd.MultiIndex.from_frame(actions.loc[:,['Time', 'Vehicle_Number_Plate']])\n",
    "locations.drop(labels=['Time', 'Vehicle_Number_Plate'], axis=1, inplace=True)"
   ]
  },
  {
   "cell_type": "code",
   "execution_count": 8,
   "metadata": {},
   "outputs": [],
   "source": [
    "it = indices.to_list()"
   ]
  },
  {
   "cell_type": "code",
   "execution_count": 39,
   "metadata": {},
   "outputs": [],
   "source": [
    "ind = pd.read_csv((Path.cwd().parent / 'data' / 'processed' / 'locations.csv'), usecols=['Time', 'Vehicle_Number_Plate'], parse_dates=['Time'])[['Time', 'Vehicle_Number_Plate']]"
   ]
  },
  {
   "cell_type": "code",
   "execution_count": 42,
   "metadata": {},
   "outputs": [
    {
     "data": {
      "text/plain": [
       "120"
      ]
     },
     "execution_count": 42,
     "metadata": {},
     "output_type": "execute_result"
    }
   ],
   "source": [
    "ind[100:200].index[20]"
   ]
  },
  {
   "cell_type": "code",
   "execution_count": 9,
   "metadata": {},
   "outputs": [
    {
     "name": "stdout",
     "output_type": "stream",
     "text": [
      "65.9 ns ± 16 ns per loop (mean ± std. dev. of 7 runs, 10000000 loops each)\n",
      "31.5 µs ± 4.9 µs per loop (mean ± std. dev. of 7 runs, 10000 loops each)\n"
     ]
    }
   ],
   "source": [
    "%timeit it[1000]\n",
    "%timeit indices[1000]"
   ]
  },
  {
   "cell_type": "code",
   "execution_count": 24,
   "metadata": {},
   "outputs": [
    {
     "data": {
      "text/plain": [
       "tensor([True, True, True, True, True, True, True, True, True, True, True, True,\n",
       "        True, True, True, True, True, True, True, True, True, True, True, True,\n",
       "        True, True, True, True, True, True, True])"
      ]
     },
     "execution_count": 24,
     "metadata": {},
     "output_type": "execute_result"
    }
   ],
   "source": [
    "torch.tensor(locations.iloc[1000].values)==torch.tensor(tuple(locations.values)[1000])"
   ]
  },
  {
   "cell_type": "code",
   "execution_count": 27,
   "metadata": {},
   "outputs": [
    {
     "name": "stdout",
     "output_type": "stream",
     "text": [
      "526 µs ± 44.5 µs per loop (mean ± std. dev. of 7 runs, 1000 loops each)\n",
      "298 µs ± 11.2 µs per loop (mean ± std. dev. of 7 runs, 1000 loops each)\n",
      "171 µs ± 7.08 µs per loop (mean ± std. dev. of 7 runs, 10000 loops each)\n",
      "15.6 µs ± 213 ns per loop (mean ± std. dev. of 7 runs, 100000 loops each)\n",
      "7.58 µs ± 131 ns per loop (mean ± std. dev. of 7 runs, 100000 loops each)\n",
      "7.52 µs ± 127 ns per loop (mean ± std. dev. of 7 runs, 100000 loops each)\n"
     ]
    }
   ],
   "source": [
    "lloc=list(locations.values)\n",
    "tloc=tuple(locations.values)\n",
    "%timeit torch.tensor(locations.loc[indices[1000]].values)\n",
    "%timeit torch.tensor(locations.loc[it[1000][0], it[1000][1]].values)\n",
    "%timeit torch.tensor(locations.iloc[1000].values)\n",
    "%timeit torch.tensor(locations.values[1000])\n",
    "%timeit torch.tensor(lloc[1000])\n",
    "%timeit torch.tensor(tloc[1000])"
   ]
  },
  {
   "cell_type": "code",
   "execution_count": 11,
   "metadata": {},
   "outputs": [
    {
     "name": "stdout",
     "output_type": "stream",
     "text": [
      "66.9 µs ± 6.39 µs per loop (mean ± std. dev. of 7 runs, 10000 loops each)\n",
      "433 µs ± 54.4 µs per loop (mean ± std. dev. of 7 runs, 1000 loops each)\n",
      "375 µs ± 25.5 µs per loop (mean ± std. dev. of 7 runs, 1000 loops each)\n"
     ]
    }
   ],
   "source": [
    "at = actions.to_list()\n",
    "%timeit indices[1000][0] in actions\n",
    "%timeit indices[1000][0] in at\n",
    "%timeit it[1000][0] in at\n"
   ]
  },
  {
   "cell_type": "code",
   "execution_count": 12,
   "metadata": {},
   "outputs": [
    {
     "name": "stdout",
     "output_type": "stream",
     "text": [
      "213 µs ± 9.39 µs per loop (mean ± std. dev. of 7 runs, 1000 loops each)\n",
      "46 µs ± 3.94 µs per loop (mean ± std. dev. of 7 runs, 10000 loops each)\n",
      "8.62 µs ± 1.3 µs per loop (mean ± std. dev. of 7 runs, 100000 loops each)\n"
     ]
    }
   ],
   "source": [
    "dt = demand.to_dict('index')\n",
    "%timeit torch.tensor(demand.loc[indices[1000][0]].values)\n",
    "%timeit torch.tensor(tuple(dt[indices[1000][0]].values()))\n",
    "%timeit torch.tensor(tuple(dt[it[1000][0]].values()))"
   ]
  }
 ],
 "metadata": {
  "interpreter": {
   "hash": "d94d0ed83f522406a66ef1c16a9f665c01f55c8b7daf66f12e3948e08645e5e1"
  },
  "kernelspec": {
   "display_name": "Python 3 (ipykernel)",
   "language": "python",
   "name": "python3"
  },
  "language_info": {
   "codemirror_mode": {
    "name": "ipython",
    "version": 3
   },
   "file_extension": ".py",
   "mimetype": "text/x-python",
   "name": "python",
   "nbconvert_exporter": "python",
   "pygments_lexer": "ipython3",
   "version": "3.9.5"
  }
 },
 "nbformat": 4,
 "nbformat_minor": 2
}
