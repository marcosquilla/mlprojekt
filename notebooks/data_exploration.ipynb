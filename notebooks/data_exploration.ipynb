{
 "cells": [
  {
   "cell_type": "code",
   "execution_count": null,
   "metadata": {},
   "outputs": [],
   "source": [
    "from IPython.core.display import display, HTML\n",
    "display(HTML(\"<style>.container { width:90% !important; }</style>\"))"
   ]
  },
  {
   "cell_type": "code",
   "execution_count": null,
   "metadata": {},
   "outputs": [],
   "source": [
    "from pathlib import Path\n",
    "from typing import Tuple, List, Callable\n",
    "\n",
    "import numpy as np\n",
    "import pandas as pd\n",
    "import torch\n",
    "import glob\n",
    "from datetime import datetime, timedelta\n",
    "from pyproj import Geod\n",
    "from tqdm import tqdm\n",
    "import matplotlib.pyplot as plt\n",
    "import random\n",
    "from sklearn.cluster import KMeans\n",
    "\n",
    "import folium\n",
    "import folium.plugins"
   ]
  },
  {
   "cell_type": "code",
   "execution_count": null,
   "metadata": {},
   "outputs": [],
   "source": [
    "wgs84_geod = Geod(ellps='WGS84') # Distance will be measured in meters on this ellipsoid - more accurate than a spherical method\n",
    "\n",
    "def coords_to_areas(target): # Calculate to which area an opening's coordinates (target) \"belong to\"\n",
    "    _,_,dist = wgs84_geod.inv(virtual_area_centers['GPS_Latitude'], virtual_area_centers['GPS_Longitude'], np.full(len(dist),target['GPS_Latitude']), np.full(len(dist), target['GPS_Longitude']))\n",
    "    return pd.Series((1 - dist / sum(dist)) / (len(dist) - 1)) # Percentage of how much an opening belongs to each area"
   ]
  },
  {
   "cell_type": "code",
   "execution_count": null,
   "metadata": {},
   "outputs": [],
   "source": [
    "swlat=55.4355410101663\n",
    "swlon=12.140848911388979\n",
    "nelat=56.06417055142977\n",
    "nelon=12.688363746232875\n",
    "rent_files = glob.glob(str((Path.cwd().parent / 'data' / 'raw' / 'SN rentals' / '*.xlsx')))\n",
    "rent_dfs = [pd.read_excel(f, skiprows=[0,1]) for f in rent_files]\n",
    "rental = pd.concat(rent_dfs,ignore_index=True)\n",
    "rental = rental[rental['[Partner_Rental_ID]']!='[Partner_Rental_ID]']\n",
    "rental.columns = rental.columns.str.replace(\"[\",\"\", regex=False)\n",
    "rental.columns = rental.columns.str.replace(\"]\",\"\", regex=False)\n",
    "rental = rental.loc[:, ['Vehicle_Number_Plate', 'Vehicle_Engine_Type',\n",
    "'Vehicle_Model', 'Revenue_Net',\n",
    "'Start_Datetime_Local', 'End_Datetime_Local',\n",
    "'Start_GPS_Latitude', 'Start_GPS_Longitude',\n",
    "'End_GPS_Latitude', 'End_GPS_Longitude', 'Package_Description',\n",
    "'Operation_State_Name_Before', 'Operation_State_Name_After', 'Reservation_YN',\n",
    "'Prebooking_YN', 'Servicedrive_YN', 'Start_Zone_Name', 'End_Zone_Name']]\n",
    "# Filter rentals outside of analysis zone\n",
    "rental = rental[\n",
    "    (rental['Start_GPS_Latitude'] > swlat) & (rental['Start_GPS_Latitude'] < nelat) & \n",
    "    (rental['Start_GPS_Longitude'] > swlon) & (rental['Start_GPS_Longitude'] < nelon) &\n",
    "    (rental['End_GPS_Latitude'] > swlat) & (rental['End_GPS_Latitude'] < nelat) & \n",
    "    (rental['End_GPS_Longitude'] > swlon) & (rental['End_GPS_Longitude'] < nelon)]"
   ]
  },
  {
   "cell_type": "code",
   "execution_count": null,
   "metadata": {
    "scrolled": true
   },
   "outputs": [],
   "source": [
    "km = KMeans(n_clusters=20, verbose=1).fit(rental.loc[:,['Start_GPS_Latitude','Start_GPS_Longitude']])\n",
    "areas = pd.DataFrame(km.cluster_centers_, columns=['GPS_Latitude','GPS_Longitude'])\n",
    "rental.loc[:,'Virtual_Start_Zone_Name'] = km.labels_\n",
    "rental.loc[:,'Virtual_End_Zone_Name'] = [label for label in km.predict(rental.loc[:,['End_GPS_Latitude','End_GPS_Longitude']])]"
   ]
  },
  {
   "cell_type": "code",
   "execution_count": null,
   "metadata": {},
   "outputs": [],
   "source": [
    "virtual_area_centers=areas"
   ]
  },
  {
   "cell_type": "code",
   "execution_count": null,
   "metadata": {},
   "outputs": [],
   "source": [
    "rental = pd.read_csv(Path.cwd().parent / 'data' / 'processed' / 'rental.csv', low_memory=False)\n",
    "openings = pd.read_csv(Path.cwd().parent / 'data' / 'processed' / 'openings.csv')\n",
    "virtual_area_centers = pd.read_csv(Path.cwd().parent / 'data' / 'processed' / 'areas.csv', index_col=0)"
   ]
  },
  {
   "cell_type": "code",
   "execution_count": null,
   "metadata": {},
   "outputs": [],
   "source": [
    "# Area centers based on current areas\n",
    "area_centers = rental.groupby('Start_Zone_Name').mean()[['Start_GPS_Latitude','Start_GPS_Longitude']]\n",
    "area_centers.rename(columns={\n",
    "    'Start_GPS_Latitude': 'GPS_Latitude', \n",
    "    'Start_GPS_Longitude': 'GPS_Longitude'}, inplace=True)\n",
    "area_centers.index.names = ['Area']"
   ]
  },
  {
   "cell_type": "code",
   "execution_count": null,
   "metadata": {},
   "outputs": [],
   "source": [
    "openings['Created_Datetime_Local'] = pd.to_datetime(openings['Created_Datetime_Local'], format='%Y-%m-%d %H:%M')\n",
    "openings = pd.get_dummies(openings, columns=['Platform'], drop_first=True)"
   ]
  },
  {
   "cell_type": "code",
   "execution_count": null,
   "metadata": {},
   "outputs": [],
   "source": [
    "rental['Start_Datetime_Local'] = pd.to_datetime(rental['Start_Datetime_Local'], format='%Y-%m-%d %H:%M')\n",
    "rental['End_Datetime_Local'] = pd.to_datetime(rental['End_Datetime_Local'], format='%Y-%m-%d %H:%M')\n",
    "rental = pd.get_dummies(rental, columns=['Vehicle_Engine_Type'], drop_first=True)\n",
    "rental = pd.get_dummies(rental, columns=['Vehicle_Model'])\n",
    "one_hot_zones = pd.get_dummies(rental.loc[:,['Virtual_Start_Zone_Name', 'Virtual_End_Zone_Name']], columns=['Virtual_Start_Zone_Name', 'Virtual_End_Zone_Name'])\n",
    "rental = pd.concat([rental, one_hot_zones], axis=1)"
   ]
  },
  {
   "cell_type": "code",
   "execution_count": null,
   "metadata": {},
   "outputs": [],
   "source": [
    "time_start = max(rental['Start_Datetime_Local'].min(), openings['Created_Datetime_Local'].min())\n",
    "time_end = min(rental['End_Datetime_Local'].max(), openings['Created_Datetime_Local'].max())\n",
    "print('Time limits:', time_start, 'to', time_end)\n",
    "total_time = time_end-time_start"
   ]
  },
  {
   "cell_type": "code",
   "execution_count": null,
   "metadata": {},
   "outputs": [],
   "source": [
    "ratio = []\n",
    "for _ in tqdm(range(100)):\n",
    "    timepoint = time_start + timedelta(seconds=total_time.total_seconds()*random.uniform(0,1))\n",
    "    #filtered_rentals = rental[rental['End_Datetime_Local'] <= timepoint].drop('Revenue_Net', axis=1)\n",
    "    #filtered_rentals = filtered_rentals.sort_values(by='End_Datetime_Local').drop_duplicates(subset='Vehicle_Number_Plate', keep='last') # Keep the last location\n",
    "    current_trips = rental[(rental['Start_Datetime_Local'] <= timepoint) & (rental['End_Datetime_Local'] > timepoint) & (rental['Servicedrive_YN']==1)] # Cars in use\n",
    "    ratio.append(len(current_trips))\n",
    "\n",
    "bins = np.arange(0, 10, 1) # fixed bin size\n",
    "plt.xlim([0, 10])\n",
    "plt.hist(ratio, bins=bins, density=True)\n",
    "plt.title('Histogram of cars being relocated at random times')\n",
    "plt.xlabel('Cars being relocated')\n",
    "plt.ylabel('Count')\n",
    "\n",
    "plt.show()"
   ]
  },
  {
   "cell_type": "code",
   "execution_count": null,
   "metadata": {},
   "outputs": [],
   "source": [
    "((rental[rental['Servicedrive_YN'] == 1]['End_Datetime_Local'] - rental[rental['Servicedrive_YN'] == 1]['Start_Datetime_Local']).dt.total_seconds()/60).hist(bins=1000)\n",
    "plt.xlim([0, 120])\n",
    "plt.show()"
   ]
  },
  {
   "cell_type": "code",
   "execution_count": null,
   "metadata": {},
   "outputs": [],
   "source": [
    "ratio = []\n",
    "for _ in tqdm(range(100)):\n",
    "    timepoint = time_start + timedelta(seconds=total_time.total_seconds()*random.uniform(0,1))\n",
    "    #filtered_rentals = rental[rental['End_Datetime_Local'] <= timepoint].drop('Revenue_Net', axis=1)\n",
    "    #filtered_rentals = filtered_rentals.sort_values(by='End_Datetime_Local').drop_duplicates(subset='Vehicle_Number_Plate', keep='last') # Keep the last location\n",
    "    current_trips = rental[(rental['Start_Datetime_Local'] <= timepoint) & (rental['End_Datetime_Local'] > timepoint) & (rental['Servicedrive_YN']==0)] # Cars in use\n",
    "    ratio.append(len(current_trips))\n",
    "\n",
    "bins = np.arange(0, 200, 1) # fixed bin size\n",
    "plt.xlim([0, 200])\n",
    "plt.hist(ratio, bins=bins, density=True)\n",
    "plt.title('Histogram of cars in random times')\n",
    "plt.xlabel('Cars in use')\n",
    "plt.ylabel('Count')\n",
    "\n",
    "plt.show()"
   ]
  },
  {
   "cell_type": "code",
   "execution_count": null,
   "metadata": {},
   "outputs": [],
   "source": [
    "rental['After_reloc'] = rental.groupby('Vehicle_Number_Plate')['Servicedrive_YN'].shift()"
   ]
  },
  {
   "cell_type": "code",
   "execution_count": null,
   "metadata": {},
   "outputs": [],
   "source": [
    "plt.hist(rental[(rental['Servicedrive_YN']==0) & (rental['Revenue_Net']!=0)]['Revenue_Net'], bins=range(0,200,10), density=True, alpha=0.5, label='All revenues')\n",
    "plt.hist(rental[(rental['Servicedrive_YN']==0) & (rental['Revenue_Net']!=0) & (rental['After_reloc']==1)]['Revenue_Net'], bins=range(0,200,10), density=True, alpha=0.5, label='Revenues after relocation')\n",
    "plt.hist(rental[(rental['Servicedrive_YN']==0) & (rental['Revenue_Net']!=0) & (rental['After_reloc']==0)]['Revenue_Net'], bins=range(0,200,10), density=True, alpha=0.5, label='Revenues without relocation')\n",
    "plt.legend()\n",
    "plt.show()\n",
    "print('Mean total:', '{:2.2f}'.format(rental[(rental['Servicedrive_YN']==0) & (rental['Revenue_Net']!=0)]['Revenue_Net'].mean()))\n",
    "print('Mean after relocation:', '{:2.2f}'.format(rental[(rental['Servicedrive_YN']==0) & (rental['Revenue_Net']!=0) & (rental['After_reloc']==1)]['Revenue_Net'].mean()))\n",
    "print('Mean without relocation:', '{:2.2f}'.format(rental[(rental['Servicedrive_YN']==0) & (rental['Revenue_Net']!=0) & (rental['After_reloc']==0)]['Revenue_Net'].mean()))\n",
    "print('Increase:', '{:2.2%}'.format(rental[(rental['Servicedrive_YN']==0) & (rental['Revenue_Net']!=0) & (rental['After_reloc']==1)]['Revenue_Net'].mean()/rental[(rental['Servicedrive_YN']==0) & (rental['Revenue_Net']!=0)]['Revenue_Net'].mean()-1))"
   ]
  },
  {
   "cell_type": "code",
   "execution_count": null,
   "metadata": {},
   "outputs": [],
   "source": [
    "print('Percentage of rentals per zone')\n",
    "rental.groupby('Start_Zone_Name')['Vehicle_Number_Plate'].count().sort_values(ascending=False)/len(rental)"
   ]
  },
  {
   "cell_type": "code",
   "execution_count": null,
   "metadata": {},
   "outputs": [],
   "source": [
    "print('Distribution of rentals unassigned to areas')\n",
    "start_map_heat = folium.Map([55.6785706133019, 12.594427257404426], zoom_start=12, tiles='Stamen Toner')\n",
    "folium.plugins.HeatMap(rental[rental['Start_Zone_Name']=='-'].loc[:,['Start_GPS_Latitude', 'Start_GPS_Longitude']], name=None, min_opacity=0.5, max_zoom=18, radius=10,\n",
    "blur=8, gradient=None, overlay=True, control=True, show=True).add_to(start_map_heat)\n",
    "display(start_map_heat)"
   ]
  },
  {
   "cell_type": "code",
   "execution_count": null,
   "metadata": {},
   "outputs": [],
   "source": [
    "print('Total rentals per zone')\n",
    "rental.groupby('Virtual_Start_Zone_Name')['Vehicle_Number_Plate'].count().sort_values(ascending=False)"
   ]
  },
  {
   "cell_type": "code",
   "execution_count": null,
   "metadata": {},
   "outputs": [],
   "source": [
    "print('Percentage of rentals per zone')\n",
    "rental.groupby('Virtual_Start_Zone_Name')['Vehicle_Number_Plate'].count().sort_values(ascending=False)/len(rental)"
   ]
  },
  {
   "cell_type": "code",
   "execution_count": null,
   "metadata": {},
   "outputs": [],
   "source": [
    "plt.bar(x=range(len(virtual_area_centers)), height=rental.groupby('Virtual_Start_Zone_Name')['Vehicle_Number_Plate'].count().sort_values(ascending=False).values/len(rental), alpha=0.7, label='Virtual', width=1)\n",
    "plt.bar(x=range(len(area_centers)), height=rental.groupby('Start_Zone_Name')['Vehicle_Number_Plate'].count().sort_values(ascending=False).values/len(rental), alpha=0.7, label='Original', width=1)\n",
    "plt.yscale('log')\n",
    "plt.legend()\n",
    "plt.show()"
   ]
  },
  {
   "cell_type": "code",
   "execution_count": null,
   "metadata": {},
   "outputs": [],
   "source": [
    "silhouette = pd.read_csv(Path.cwd().parent / 'reports' / 'virtual_area_opt.csv', index_col='0')\n",
    "silhouette.columns = ['Silhouette']\n",
    "silhouette.index.names = ['n_clusters']\n",
    "silhouette.plot()\n",
    "print(silhouette.iloc[np.argmax(silhouette)].name)"
   ]
  },
  {
   "cell_type": "code",
   "execution_count": null,
   "metadata": {},
   "outputs": [],
   "source": [
    "print('Areas vs. virtual areas')\n",
    "start_map = folium.Map([55.6785706133019, 12.594427257404426], zoom_start=12, tiles='Stamen Toner')\n",
    "for name, row in area_centers.iterrows():\n",
    "    folium.CircleMarker(\n",
    "        radius=5,\n",
    "        location=[row['GPS_Latitude'], row['GPS_Longitude']],\n",
    "        color=\"crimson\",\n",
    "        tooltip=name,\n",
    "        fill=False,\n",
    "    ).add_to(start_map)\n",
    "for name, row in virtual_area_centers.iterrows():\n",
    "    folium.CircleMarker(\n",
    "        radius=5,\n",
    "        location=[row['GPS_Latitude'], row['GPS_Longitude']],\n",
    "        color=\"blue\",\n",
    "        tooltip=name, \n",
    "        fill=True\n",
    "    ).add_to(start_map)\n",
    "display(start_map)"
   ]
  },
  {
   "cell_type": "code",
   "execution_count": null,
   "metadata": {},
   "outputs": [],
   "source": [
    "hour_start = 5\n",
    "print('Distribution of origin service drives at {:2n}'.format(hour_start))\n",
    "start_map_heat = folium.Map([55.6785706133019, 12.594427257404426], zoom_start=12, tiles='Stamen Toner')\n",
    "folium.plugins.HeatMap(rental[(rental['Servicedrive_YN']==1) & (rental['Start_Datetime_Local'].dt.hour==hour_start)].loc[:,['Start_GPS_Latitude', 'Start_GPS_Longitude']], name=None, min_opacity=0.5, max_zoom=18, radius=10,\n",
    "blur=8, gradient=None, overlay=True, control=True, show=True).add_to(start_map_heat)\n",
    "display(start_map_heat)"
   ]
  },
  {
   "cell_type": "code",
   "execution_count": null,
   "metadata": {},
   "outputs": [],
   "source": [
    "print('Distribution of destination service drives at {:2n}'.format(hour_start))\n",
    "start_map_heat = folium.Map([55.6785706133019, 12.594427257404426], zoom_start=12, tiles='Stamen Toner')\n",
    "folium.plugins.HeatMap(rental[(rental['Servicedrive_YN']==1) & (rental['Start_Datetime_Local'].dt.hour==hour_start)].loc[:,['End_GPS_Latitude', 'End_GPS_Longitude']], name=None, min_opacity=0.5, max_zoom=18, radius=10,\n",
    "blur=8, gradient=None, overlay=True, control=True, show=True).add_to(start_map_heat)\n",
    "display(start_map_heat)"
   ]
  },
  {
   "cell_type": "code",
   "execution_count": null,
   "metadata": {},
   "outputs": [],
   "source": [
    "def plot_service_drives(i, fmap, quatity:int=100, colour='crimson'):\n",
    "    origin_area = virtual_area_centers.index[i]\n",
    "    rent_locs = rental[rental['Virtual_Start_Zone_Name']==origin_area].iloc[:quatity]\n",
    "    folium.CircleMarker(location=[virtual_area_centers.loc[origin_area,'GPS_Latitude'], virtual_area_centers.loc[origin_area, 'GPS_Longitude']], color=\"blue\", tooltip=i, fill=True).add_to(start_map)\n",
    "    for _, row in rent_locs.iterrows():\n",
    "        folium.Circle(\n",
    "            radius=10,\n",
    "            location=[row['End_GPS_Latitude'], row['End_GPS_Longitude']],\n",
    "            color=colour,\n",
    "            fill=False,\n",
    "        ).add_to(start_map)\n",
    "    display(start_map)"
   ]
  },
  {
   "cell_type": "code",
   "execution_count": null,
   "metadata": {},
   "outputs": [],
   "source": [
    "start_map = folium.Map([55.6785706133019, 12.594427257404426], zoom_start=12, tiles='Stamen Toner')\n",
    "plot_service_drives(20, start_map)"
   ]
  },
  {
   "cell_type": "code",
   "execution_count": null,
   "metadata": {},
   "outputs": [],
   "source": [
    "def plot_rent_locs(i, fmap, quatity:int=500, colour='crimson'):\n",
    "    area = virtual_area_centers.index[i]\n",
    "    rent_locs = rental[rental['Virtual_Start_Zone_Name']==area].loc[:,['Start_GPS_Latitude', 'Start_GPS_Longitude']].iloc[:quatity]\n",
    "    for _, row in rent_locs.iterrows():\n",
    "        folium.Circle(\n",
    "            radius=10,\n",
    "            location=[row['Start_GPS_Latitude'], row['Start_GPS_Longitude']],\n",
    "            color=colour,\n",
    "            fill=False,\n",
    "        ).add_to(start_map)"
   ]
  },
  {
   "cell_type": "code",
   "execution_count": null,
   "metadata": {},
   "outputs": [],
   "source": [
    "start_map = folium.Map([55.6785706133019, 12.594427257404426], zoom_start=12, tiles='Stamen Toner')\n",
    "\n",
    "plot_rent_locs(34, start_map, colour='red')\n",
    "plot_rent_locs(0, start_map, colour='green')\n",
    "plot_rent_locs(22, start_map, colour='yellow')\n",
    "plot_rent_locs(48, start_map, colour='purple')\n",
    "\n",
    "for idx, row in virtual_area_centers.iterrows():\n",
    "    folium.CircleMarker(\n",
    "        location=[row['GPS_Latitude'], row['GPS_Longitude']],\n",
    "        color=\"blue\",\n",
    "        tooltip=idx, \n",
    "        fill=True\n",
    "    ).add_to(start_map)\n",
    "\n",
    "display(start_map)"
   ]
  }
 ],
 "metadata": {
  "interpreter": {
   "hash": "d94d0ed83f522406a66ef1c16a9f665c01f55c8b7daf66f12e3948e08645e5e1"
  },
  "kernelspec": {
   "display_name": "Python 3 (ipykernel)",
   "language": "python",
   "name": "python3"
  },
  "language_info": {
   "codemirror_mode": {
    "name": "ipython",
    "version": 3
   },
   "file_extension": ".py",
   "mimetype": "text/x-python",
   "name": "python",
   "nbconvert_exporter": "python",
   "pygments_lexer": "ipython3",
   "version": "3.9.5"
  }
 },
 "nbformat": 4,
 "nbformat_minor": 2
}
