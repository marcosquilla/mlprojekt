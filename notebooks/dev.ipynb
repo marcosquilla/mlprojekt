{
 "cells": [
  {
   "cell_type": "code",
   "execution_count": null,
   "id": "published-factory",
   "metadata": {},
   "outputs": [],
   "source": [
    "from IPython.core.display import display, HTML\n",
    "display(HTML(\"<style>.container { width:90% !important; }</style>\"))"
   ]
  },
  {
   "cell_type": "code",
   "execution_count": null,
   "id": "injured-trading",
   "metadata": {},
   "outputs": [],
   "source": [
    "from pathlib import Path\n",
    "from datetime import datetime, timedelta\n",
    "import numpy as np\n",
    "import pandas as pd\n",
    "import matplotlib.pyplot as plt\n",
    "import folium\n",
    "import folium.plugins\n",
    "from itertools import product\n",
    "from pyproj import Geod\n",
    "wgs84_geod = Geod(ellps='WGS84') # Distance will be measured in meters on this ellipsoid - more accurate than a spherical method\n",
    "from tqdm import tqdm\n",
    "\n",
    "time_step, time_start, time_end=timedelta(minutes=30), datetime(2020, 2, 2, 0, 0, 0), datetime(2021, 5, 3, 23, 59, 59)\n",
    "timepoints = np.arange(time_start, time_end, time_step)"
   ]
  },
  {
   "cell_type": "code",
   "execution_count": null,
   "id": "7a9e8bf8",
   "metadata": {},
   "outputs": [],
   "source": [
    "actions = pd.read_csv((Path.cwd().parent / 'data' / 'processed' / 'actions.csv'), parse_dates=['Time'])"
   ]
  },
  {
   "cell_type": "code",
   "execution_count": null,
   "id": "b31bd68f",
   "metadata": {},
   "outputs": [],
   "source": [
    "area_centers = pd.read_csv((Path.cwd().parent / 'data' / 'processed' / 'areas.csv'), index_col=0)"
   ]
  },
  {
   "cell_type": "code",
   "execution_count": null,
   "id": "analyzed-deployment",
   "metadata": {},
   "outputs": [],
   "source": [
    "requests = pd.read_csv((Path.cwd().parent / 'data' / 'processed' / 'requests.csv'), parse_dates=['Created_Datetime_Local']).sort_values('Created_Datetime_Local')"
   ]
  },
  {
   "cell_type": "code",
   "execution_count": null,
   "id": "continuous-modification",
   "metadata": {},
   "outputs": [],
   "source": [
    "rental=pd.read_csv((Path.cwd().parent / 'data' / 'interim' / 'rental.csv'), parse_dates=['Start_Datetime_Local', 'End_Datetime_Local'])"
   ]
  },
  {
   "cell_type": "code",
   "execution_count": null,
   "id": "b7f9fee4",
   "metadata": {},
   "outputs": [],
   "source": [
    "lens=[np.array([len(rental[(rental['Start_Datetime_Local']>timepoints[i]) & (rental['Start_Datetime_Local']<timepoints[i+1])]),\n",
    "len(requests[(requests['Created_Datetime_Local']>timepoints[i]) & (requests['Created_Datetime_Local']<timepoints[i+1])])]) for i in tqdm(range(len(timepoints[:-1])))]"
   ]
  },
  {
   "cell_type": "code",
   "execution_count": null,
   "id": "3572427d",
   "metadata": {},
   "outputs": [],
   "source": [
    "lens=np.array(lens)"
   ]
  },
  {
   "cell_type": "code",
   "execution_count": null,
   "id": "7356bca2",
   "metadata": {},
   "outputs": [],
   "source": [
    "lens[(lens[:,1]>0)&(lens[:,0]<lens[:,1]),0]/lens[(lens[:,1]>0)&(lens[:,0]<lens[:,1]),1]"
   ]
  },
  {
   "cell_type": "code",
   "execution_count": null,
   "id": "7d7d5ce8",
   "metadata": {},
   "outputs": [],
   "source": [
    "plt.hist(lens[(lens[:,1]>0)&(lens[:,0]<lens[:,1]),0]/lens[(lens[:,1]>0)&(lens[:,0]<lens[:,1]),1], bins=50)\n",
    "plt.xlim((0,1))\n",
    "plt.show()"
   ]
  },
  {
   "cell_type": "code",
   "execution_count": null,
   "id": "35b37438",
   "metadata": {},
   "outputs": [],
   "source": [
    "len(lens[lens[:,1]==0])/len(lens)"
   ]
  },
  {
   "cell_type": "code",
   "execution_count": null,
   "id": "b3c91f71",
   "metadata": {},
   "outputs": [],
   "source": [
    "d=lens[(lens[:,1]>0)&(lens[:,0]<lens[:,1]),0]/lens[(lens[:,1]>0)&(lens[:,0]<lens[:,1]),1]"
   ]
  },
  {
   "cell_type": "code",
   "execution_count": null,
   "id": "c80a9b2e",
   "metadata": {},
   "outputs": [],
   "source": [
    "d.mean()"
   ]
  },
  {
   "cell_type": "code",
   "execution_count": null,
   "id": "industrial-terminology",
   "metadata": {},
   "outputs": [],
   "source": [
    "start_map = folium.Map([55.6785706133019, 12.594427257404426], zoom_start=12, tiles='Stamen Toner')\n",
    "for name, row in area_centers.iterrows():\n",
    "    folium.CircleMarker(\n",
    "        radius=10,\n",
    "        location=[row['GPS_Latitude'], row['GPS_Longitude']],\n",
    "        color=\"crimson\",\n",
    "        tooltip=name,\n",
    "        fill=True,\n",
    "    ).add_to(start_map)"
   ]
  },
  {
   "cell_type": "code",
   "execution_count": null,
   "id": "functioning-ministry",
   "metadata": {},
   "outputs": [],
   "source": [
    "start_map"
   ]
  },
  {
   "cell_type": "code",
   "execution_count": null,
   "id": "a0c0e2ef",
   "metadata": {},
   "outputs": [],
   "source": []
  }
 ],
 "metadata": {
  "kernelspec": {
   "display_name": "Python 3 (ipykernel)",
   "language": "python",
   "name": "python3"
  },
  "language_info": {
   "codemirror_mode": {
    "name": "ipython",
    "version": 3
   },
   "file_extension": ".py",
   "mimetype": "text/x-python",
   "name": "python",
   "nbconvert_exporter": "python",
   "pygments_lexer": "ipython3",
   "version": "3.9.5"
  }
 },
 "nbformat": 4,
 "nbformat_minor": 5
}
